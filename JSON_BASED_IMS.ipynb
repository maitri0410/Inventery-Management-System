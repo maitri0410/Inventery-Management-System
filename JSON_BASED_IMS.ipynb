{
 "cells": [
  {
   "cell_type": "markdown",
   "id": "e9be0cd6",
   "metadata": {},
   "source": [
    "# Generating Sales and Record file for the first time"
   ]
  },
  {
   "cell_type": "code",
   "execution_count": 5,
   "id": "35f9f493",
   "metadata": {},
   "outputs": [],
   "source": [
    "fd = open('record.json', 'r')\n",
    "t = fd.read()\n",
    "fd.close()\n",
    "\n",
    "fd = open('record.json','w')\n",
    "fd.write(t)\n",
    "fd.close()\n",
    "\n",
    "sales = {}\n",
    "\n",
    "sales = json.dumps(sales)\n",
    "\n",
    "fd = open(\"sales.json\", 'w')\n",
    "fd.write(sales)\n",
    "fd.close()"
   ]
  },
  {
   "cell_type": "markdown",
   "id": "4e1b08a1",
   "metadata": {},
   "source": [
    "# Importing Libraries"
   ]
  },
  {
   "cell_type": "code",
   "execution_count": 4,
   "id": "f429127a",
   "metadata": {},
   "outputs": [],
   "source": [
    "import json\n",
    "import time"
   ]
  },
  {
   "cell_type": "code",
   "execution_count": 12,
   "id": "e5ffc692",
   "metadata": {},
   "outputs": [
    {
     "name": "stdout",
     "output_type": "stream",
     "text": [
      "**********************************************\n",
      "12677 {'name': 'Oreo Biscuit', 'pr': 100, 'qn': 45}\n",
      "12678 {'name': 'Parle-G', 'pr': 20, 'qn': 40}\n",
      "12679 {'name': 'Monaco', 'pr': 50, 'qn': 40}\n",
      "12663 {'name': 'Drink', 'pr': 85, 'qn': 100}\n",
      "12664 {'name': 'Candy', 'pr': 5, 'qn': 1000}\n",
      "12670 {'name': 'Dairy Milk', 'pr': 50, 'qn': 40}\n",
      "12671 {'name': '5-Star', 'pr': 5, 'qn': 20}\n",
      "12672 {'name': 'Kit-kat', 'pr': 25, 'qn': 40}\n",
      "******************************************\n",
      "\n",
      "Enter the product_Id: 12679\n",
      "Enter the quantity: 50\n",
      "Sorry, We are not having that much of quantity.\n",
      "We're only having 40 quantity.\n",
      "Would you like to purchase or not (Y/N)\n",
      "Y/NY\n",
      "Name: Monaco\n",
      "Price: 50\n",
      "Quantity: 40\n",
      "------------------------------\n",
      "Billing Amount: 2000\n",
      "------------------------------\n",
      "Data Updated in Sales File!\n",
      "Data Updated in Inventory File!\n"
     ]
    }
   ],
   "source": [
    "# Loading Inventory and Converting it to Dictionary\n",
    "fd = open('record.json','r')\n",
    "t = fd.read()\n",
    "fd.close()\n",
    "dct = json.loads(t)\n",
    "\n",
    "# Loading Sales and Converting it to Dictionary\n",
    "fd = open(\"sales.json\", 'r')\n",
    "sl = fd.read()\n",
    "fd.close()\n",
    "sales = json.loads(sl)\n",
    "\n",
    "# Displaying Menu\n",
    "print(\"**********************************************\")\n",
    "for i in dct.keys():\n",
    "    print(i, dct[i])\n",
    "\n",
    "print(\"******************************************\\n\")\n",
    "\n",
    "# Taking Input from User to Enter what he/she wants to purchase\n",
    "ui_prod  = str(input(\"Enter the product_Id: \"))\n",
    "ui_quant = int(input(\"Enter the quantity: \"))\n",
    "\n",
    "if (ui_prod in dct.keys()):                                                     # Checking If product Exists or not\n",
    "    if (dct[ui_prod]['qn'] >= ui_quant):                                        # If I'm having enough Quantity\n",
    "        print(\"Name:\",dct[ui_prod]['name'])\n",
    "        print(\"Price:\",dct[ui_prod]['pr'])\n",
    "        print(\"Quantity:\", ui_quant)\n",
    "        print(\"------------------------------\")\n",
    "        print(\"Billing Amount:\", dct[ui_prod]['pr'] * ui_quant)\n",
    "\n",
    "        dct[ui_prod]['qn'] = dct[ui_prod]['qn'] - ui_quant                        # Updating Inventory\n",
    "\n",
    "        sales[str(len(sales)+1)] = {'prod_id' : ui_prod,                          # Updating Transection\n",
    "                                  \"time_pr\" :  time.ctime(), \n",
    "                                  'bill' : dct[ui_prod]['pr'] * ui_quant, \n",
    "                                  'qn' : ui_quant, \n",
    "                                  'pr' : dct[ui_prod]['pr'], \n",
    "                                  'pr_name' : dct[ui_prod]['name']}\n",
    "        sl = json.dumps(sales)                                                          # Updating Sales File\n",
    "        fd = open('sales.json','w')\n",
    "        fd.write(sl)\n",
    "        fd.close()\n",
    "\n",
    "        print(\"------------------------------\")\n",
    "        print(\"Data Updated in Sales File!\")\n",
    "\n",
    "\n",
    "    else:                                                                       # If I'm not having enough Quantity\n",
    "        print(\"Sorry, We are not having that much of quantity.\")\n",
    "        print(\"We're only having\",dct[ui_prod]['qn'],\"quantity.\")\n",
    "        print(\"Would you like to purchase or not (Y/N)\")\n",
    "        ch = str(input(\"Y/N\"))\n",
    "        if (ch == \"Y\"):                                                  # If user wants to purchase the quantitry we're having\n",
    "            print(\"Name:\",dct[ui_prod]['name'])\n",
    "            print(\"Price:\",dct[ui_prod]['pr'])\n",
    "            print(\"Quantity:\", dct[ui_prod]['qn'])\n",
    "            print(\"------------------------------\")\n",
    "            print(\"Billing Amount:\", dct[ui_prod]['pr'] * dct[ui_prod]['qn'])\n",
    "\n",
    "            dct[ui_prod]['qn'] = 0                                                  # Updating Inventory\n",
    "\n",
    "            sales[str(len(sales)+1)] = {'prod_id' : ui_prod,                        # Updating Transection\n",
    "                                    \"time_pr\" :  time.ctime(), \n",
    "                                    'bill' : dct[ui_prod]['pr'] * dct[ui_prod]['qn'], \n",
    "                                    'qn' : dct[ui_prod]['qn'], \n",
    "                                    'pr' : dct[ui_prod]['pr'], \n",
    "                                    'pr_name' : dct[ui_prod]['name']}\n",
    "            sl = json.dumps(sales)                                                          # Updating Sales File\n",
    "            fd = open('sales.json','w')\n",
    "            fd.write(sl)\n",
    "            fd.close()\n",
    "\n",
    "            print(\"------------------------------\")\n",
    "            print(\"Data Updated in Sales File!\")\n",
    "\n",
    "        else:                                                                     # If user press anything Except Y\n",
    "            print(\"Thankyou!\")\n",
    "else:                                                                           # Product ID Doesn't exists\n",
    "    print(\"------------------------------\")\n",
    "    print(\"Product doesn't exist!\")\n",
    "    print(\"Please enter a valid product id\")\n",
    "    print(\"------------------------------\")\n",
    "\n",
    "\n",
    "\n",
    "\n",
    "\n",
    "js = json.dumps(dct)                                                            # Updating Inventory File\n",
    "fd = open('record.json','w')\n",
    "fd.write(js)\n",
    "fd.close()\n",
    "\n",
    "print(\"Data Updated in Inventory File!\")"
   ]
  },
  {
   "cell_type": "code",
   "execution_count": 14,
   "id": "e6fb8d35",
   "metadata": {},
   "outputs": [
    {
     "data": {
      "text/plain": [
       "{'12677': {'name': 'Oreo Biscuit', 'pr': 100, 'qn': 45},\n",
       " '12678': {'name': 'Parle-G', 'pr': 20, 'qn': 40},\n",
       " '12679': {'name': 'Monaco', 'pr': 50, 'qn': 0},\n",
       " '12663': {'name': 'Drink', 'pr': 85, 'qn': 100},\n",
       " '12664': {'name': 'Candy', 'pr': 5, 'qn': 1000},\n",
       " '12670': {'name': 'Dairy Milk', 'pr': 50, 'qn': 40},\n",
       " '12671': {'name': '5-Star', 'pr': 5, 'qn': 20},\n",
       " '12672': {'name': 'Kit-kat', 'pr': 25, 'qn': 40}}"
      ]
     },
     "execution_count": 14,
     "metadata": {},
     "output_type": "execute_result"
    }
   ],
   "source": [
    "dct"
   ]
  },
  {
   "cell_type": "code",
   "execution_count": 15,
   "id": "ce9b1dc5",
   "metadata": {},
   "outputs": [
    {
     "data": {
      "text/plain": [
       "{'1': {'prod_id': '12671',\n",
       "  'time_pr': 'Thu Sep  9 12:49:33 2021',\n",
       "  'bill': 100,\n",
       "  'qn': 20,\n",
       "  'pr': 5,\n",
       "  'pr_name': '5-Star'},\n",
       " '2': {'prod_id': '12679',\n",
       "  'time_pr': 'Thu Sep  9 12:53:05 2021',\n",
       "  'bill': 0,\n",
       "  'qn': 0,\n",
       "  'pr': 50,\n",
       "  'pr_name': 'Monaco'}}"
      ]
     },
     "execution_count": 15,
     "metadata": {},
     "output_type": "execute_result"
    }
   ],
   "source": [
    "sales"
   ]
  },
  {
   "cell_type": "code",
   "execution_count": null,
   "id": "7d2baba5",
   "metadata": {},
   "outputs": [],
   "source": []
  }
 ],
 "metadata": {
  "kernelspec": {
   "display_name": "Python 3",
   "language": "python",
   "name": "python3"
  },
  "language_info": {
   "codemirror_mode": {
    "name": "ipython",
    "version": 3
   },
   "file_extension": ".py",
   "mimetype": "text/x-python",
   "name": "python",
   "nbconvert_exporter": "python",
   "pygments_lexer": "ipython3",
   "version": "3.8.8"
  }
 },
 "nbformat": 4,
 "nbformat_minor": 5
}
