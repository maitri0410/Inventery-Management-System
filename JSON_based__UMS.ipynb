{
  "nbformat": 4,
  "nbformat_minor": 0,
  "metadata": {
    "colab": {
      "name": "JSON_based_ UMS.ipynb",
      "provenance": [],
      "collapsed_sections": []
    },
    "kernelspec": {
      "name": "python3",
      "display_name": "Python 3"
    },
    "language_info": {
      "name": "python"
    }
  },
  "cells": [
    {
      "cell_type": "markdown",
      "metadata": {
        "id": "rMpLUpEtkI8V"
      },
      "source": [
        "# Read Data From Json\n"
      ]
    },
    {
      "cell_type": "code",
      "metadata": {
        "id": "ihNt4Isp4qbT"
      },
      "source": [
        "import json"
      ],
      "execution_count": 15,
      "outputs": []
    },
    {
      "cell_type": "code",
      "metadata": {
        "id": "zxoPg647hA2Z"
      },
      "source": [
        "fd=open('records.json','r')\n",
        "r=fd.read()\n",
        "fd.close()"
      ],
      "execution_count": 19,
      "outputs": []
    },
    {
      "cell_type": "code",
      "metadata": {
        "id": "U9BHEZUQhgwI"
      },
      "source": [
        "records=json.loads(r)"
      ],
      "execution_count": 11,
      "outputs": []
    },
    {
      "cell_type": "code",
      "metadata": {
        "colab": {
          "base_uri": "https://localhost:8080/"
        },
        "id": "Eo6K52G5iJEy",
        "outputId": "6a401a16-6582-4149-c37c-a719de889d02"
      },
      "source": [
        "records"
      ],
      "execution_count": 20,
      "outputs": [
        {
          "output_type": "execute_result",
          "data": {
            "text/plain": [
              "{'12691': {'name': 'Choco Cake', 'pr': 100, 'qn': 34},\n",
              " '12692': {'name': 'Milk Cake', 'pr': 800, 'qn': 100},\n",
              " '12693': {'name': 'Drink', 'pr': 85, 'qn': 100},\n",
              " '12694': {'name': 'Candy', 'pr': 5, 'qn': 1000},\n",
              " '12695': {'name': 'Pen', 'pr': 20, 'qn': 100},\n",
              " '12696': {'name': 'Phone', 'pr': 50000, 'qn': 9},\n",
              " '12697': {'name': 'Mic', 'pr': 1500, 'qn': 5},\n",
              " '12698': {'name': 'Dairy Milk', 'pr': 50, 'qn': 10}}"
            ]
          },
          "metadata": {},
          "execution_count": 20
        }
      ]
    },
    {
      "cell_type": "markdown",
      "metadata": {
        "id": "_J1iBcQhkUkW"
      },
      "source": [
        "# Add New Item in Json File"
      ]
    },
    {
      "cell_type": "code",
      "metadata": {
        "colab": {
          "base_uri": "https://localhost:8080/"
        },
        "id": "iq6-jc0pigD1",
        "outputId": "15a42281-d7dc-49b9-a3e8-dfd6738af05b"
      },
      "source": [
        "prod_id = str(input(\"Enter product id:\"))\n",
        "name = str(input(\"Enter name:\"))\n",
        "pr = int(input(\"Enter price:\"))\n",
        "qn = int(input(\"Enter quantity:\"))\n",
        "a=list(records.items())\n",
        "for i in range(len(a)):\n",
        "   if (prod_id==a[i][0]):\n",
        "       b=a[i][1]\n",
        "       b['qn']+qn\n",
        "   else:\n",
        "        records[prod_id]={'name':name,'pr':pr,'qn':qn}\n",
        "js = json.dumps(records)\n",
        "\n",
        "fd = open(\"records.json\",'w')\n",
        "fd.write(js)\n",
        "fd.close()"
      ],
      "execution_count": 14,
      "outputs": [
        {
          "name": "stdout",
          "output_type": "stream",
          "text": [
            "Enter product id:12698\n",
            "Enter name:Dairy Milk\n",
            "Enter price:50\n",
            "Enter quantity:10\n"
          ]
        }
      ]
    },
    {
      "cell_type": "markdown",
      "metadata": {
        "id": "NS3jPI2p4c2O"
      },
      "source": [
        "# Purchase Product\n"
      ]
    },
    {
      "cell_type": "code",
      "metadata": {
        "colab": {
          "base_uri": "https://localhost:8080/"
        },
        "id": "7nsA2U0o41iW",
        "outputId": "3700ffb6-a199-4b19-c3e8-bee942cf3034"
      },
      "source": [
        "ui_prod  = str(input(\"Enter the product_Id: \"))\n",
        "ui_quant = int(input(\"Enter the quantity: \"))\n",
        "\n",
        "a=list(records.items())\n",
        "c=0\n",
        "for i in range(len(a)):\n",
        "   if (ui_prod==a[i][0] and records[ui_prod]['qn']!=0):\n",
        "       b=a[i][1]\n",
        "       print(\"Product: \", b['name'])\n",
        "       print(\"Price: \", b['pr'])\n",
        "       print(\"Billing Amount: \", b['pr'] * ui_quant)\n",
        "       b['qn'] = b['qn'] - ui_quant\n",
        "       c+=1\n",
        "if c==0:\n",
        "    print('Sorry!, This product is not available')\n",
        "    "
      ],
      "execution_count": 35,
      "outputs": [
        {
          "output_type": "stream",
          "name": "stdout",
          "text": [
            "Enter the product_Id: 12692\n",
            "Enter the quantity: 4\n",
            "Product:  Milk Cake\n",
            "Price:  800\n",
            "Billing Amount:  3200\n"
          ]
        }
      ]
    },
    {
      "cell_type": "markdown",
      "metadata": {
        "id": "V2-19z1M8b7u"
      },
      "source": [
        "# Update Inventery After Purchse"
      ]
    },
    {
      "cell_type": "code",
      "metadata": {
        "id": "O5geRs7s8mNC"
      },
      "source": [
        "js = json.dumps(records)\n",
        "\n",
        "fd = open(\"records.json\",'w')\n",
        "fd.write(js)\n",
        "fd.close()"
      ],
      "execution_count": 18,
      "outputs": []
    },
    {
      "cell_type": "markdown",
      "metadata": {
        "id": "Hh0weja2H70u"
      },
      "source": [
        "# Sales Json\n"
      ]
    },
    {
      "cell_type": "code",
      "metadata": {
        "id": "OVlpPkpx89Hs",
        "colab": {
          "base_uri": "https://localhost:8080/"
        },
        "outputId": "06a4ca83-feef-46b9-9fbe-0cc3315b1635"
      },
      "source": [
        "{'prod' : ui_prod, 'qn' : ui_quant, 'amount': records[ui_prod]['pr'] * ui_quant}\n"
      ],
      "execution_count": 29,
      "outputs": [
        {
          "output_type": "execute_result",
          "data": {
            "text/plain": [
              "{'amount': 500, 'prod': '12691', 'qn': 5}"
            ]
          },
          "metadata": {},
          "execution_count": 29
        }
      ]
    },
    {
      "cell_type": "code",
      "metadata": {
        "id": "slBFNqkMJd1b"
      },
      "source": [
        "sales = {1 : {'prod' : ui_prod, 'qn' : ui_quant, 'amount': records[ui_prod]['pr'] * ui_quant},\n",
        "         2 : {'prod' : ui_prod, 'qn' : ui_quant, 'amount': records[ui_prod]['pr'] * ui_quant},\n",
        "         3 : {'prod' : ui_prod, 'qn' : ui_quant, 'amount': records[ui_prod]['pr'] * ui_quant}}"
      ],
      "execution_count": 36,
      "outputs": []
    },
    {
      "cell_type": "code",
      "metadata": {
        "id": "q-dmPNaxJfYV"
      },
      "source": [
        "sales[len(sales)+1]={'prod' : ui_prod, 'qn' : ui_quant, 'amount': records[ui_prod]['pr'] * ui_quant}\n"
      ],
      "execution_count": 37,
      "outputs": []
    },
    {
      "cell_type": "code",
      "metadata": {
        "id": "Gk12MDmRJ4fe"
      },
      "source": [
        "sale = json.dumps(sales)"
      ],
      "execution_count": 38,
      "outputs": []
    },
    {
      "cell_type": "code",
      "metadata": {
        "colab": {
          "base_uri": "https://localhost:8080/",
          "height": 52
        },
        "id": "do2NQpC1KvB5",
        "outputId": "e7f5ab0a-1bdf-4d78-ebad-cd8754f2f02f"
      },
      "source": [
        "sale"
      ],
      "execution_count": 39,
      "outputs": [
        {
          "output_type": "execute_result",
          "data": {
            "application/vnd.google.colaboratory.intrinsic+json": {
              "type": "string"
            },
            "text/plain": [
              "'{\"1\": {\"prod\": \"12692\", \"qn\": 4, \"amount\": 3200}, \"2\": {\"prod\": \"12692\", \"qn\": 4, \"amount\": 3200}, \"3\": {\"prod\": \"12692\", \"qn\": 4, \"amount\": 3200}, \"4\": {\"prod\": \"12692\", \"qn\": 4, \"amount\": 3200}}'"
            ]
          },
          "metadata": {},
          "execution_count": 39
        }
      ]
    },
    {
      "cell_type": "code",
      "metadata": {
        "id": "VbbHzIGlKMX1"
      },
      "source": [
        "fd=open('sale.json','w')\n",
        "r=fd.write(sale)\n",
        "fd.close()"
      ],
      "execution_count": 40,
      "outputs": []
    }
  ]
}