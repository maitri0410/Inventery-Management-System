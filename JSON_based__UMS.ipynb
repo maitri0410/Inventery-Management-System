{
  "nbformat": 4,
  "nbformat_minor": 0,
  "metadata": {
    "colab": {
      "name": "JSON_based_ UMS.ipynb",
      "provenance": [],
      "collapsed_sections": []
    },
    "kernelspec": {
      "name": "python3",
      "display_name": "Python 3"
    },
    "language_info": {
      "name": "python"
    }
  },
  "cells": [
    {
      "cell_type": "markdown",
      "metadata": {
        "id": "rMpLUpEtkI8V"
      },
      "source": [
        "# Read Data From Json\n"
      ]
    },
    {
      "cell_type": "code",
      "metadata": {
        "id": "ihNt4Isp4qbT"
      },
      "source": [
        "import json"
      ],
      "execution_count": 42,
      "outputs": []
    },
    {
      "cell_type": "code",
      "metadata": {
        "id": "zxoPg647hA2Z"
      },
      "source": [
        "fd=open('record.json','r')\n",
        "r=fd.read()\n",
        "fd.close()"
      ],
      "execution_count": 52,
      "outputs": []
    },
    {
      "cell_type": "code",
      "metadata": {
        "id": "U9BHEZUQhgwI"
      },
      "source": [
        "record=json.loads(r)"
      ],
      "execution_count": 53,
      "outputs": []
    },
    {
      "cell_type": "code",
      "metadata": {
        "colab": {
          "base_uri": "https://localhost:8080/"
        },
        "id": "Eo6K52G5iJEy",
        "outputId": "d2e2e0e7-05d7-4298-ac5c-5ea842e7a5b5"
      },
      "source": [
        "record"
      ],
      "execution_count": 151,
      "outputs": [
        {
          "output_type": "execute_result",
          "data": {
            "text/plain": [
              "{'12661': {'Exp-Date': '3/9/21', 'name': 'Choco Cake', 'pr': 100, 'qn': 34},\n",
              " '12662': {'Exp-Date': '13/10/21', 'name': 'Milk Cake', 'pr': 800, 'qn': 100},\n",
              " '12663': {'Exp-Date': '13/8/21', 'name': 'Drink', 'pr': 85, 'qn': 100},\n",
              " '12664': {'Exp-Date': '23/9/21', 'name': 'Candy', 'pr': 5, 'qn': 1000},\n",
              " '12665': {'name': 'Pen', 'pr': 20, 'qn': 100},\n",
              " '12666': {'name': 'Phone', 'pr': 50000, 'qn': 9},\n",
              " '12667': {'Exp-Date': '13/7/21', 'name': 'Mic', 'pr': 1500, 'qn': 5},\n",
              " '12668': {'name': 'Coco Powder', 'pr': 70, 'qn': 5},\n",
              " '12669': {'name': 'Cheese', 'pr': 210, 'qn': 25},\n",
              " '12670': {'Exp-Date': '30/8/21', 'name': 'Dairy Milk', 'pr': 50, 'qn': 35},\n",
              " '12671': {'Exp-Date': '13/10/21', 'name': '5-Star', 'pr': 5, 'qn': 40},\n",
              " '12672': {'Exp-Date': '3/10/21', 'name': 'Kit-kat', 'pr': 25, 'qn': 40},\n",
              " '12673': {'name': 'Pencil', 'pr': 5, 'qn': 50},\n",
              " '12674': {'name': 'Notebook', 'pr': 50, 'qn': 400},\n",
              " '12675': {'name': 'Book', 'pr': 100, 'qn': 40},\n",
              " '12676': {'name': 'Laptop', 'pr': 35000, 'qn': 10},\n",
              " '12677': {'Exp-Date': '9/10/21', 'name': 'Oreo Biscuit', 'pr': 100, 'qn': 25},\n",
              " '12678': {'Exp-Date': '3/11/21', 'name': 'Parle-G', 'pr': 20, 'qn': 20},\n",
              " '12679': {'Exp-Date': '5/9/21', 'name': 'Monaco', 'pr': 50, 'qn': 40},\n",
              " '12680': {'name': 'BAG', 'pr': 70, 'qn': 30},\n",
              " '12681': {'name': 'Shoes', 'pr': 10, 'qn': 40},\n",
              " '12682': {'name': 'Ring', 'pr': 700, 'qn': 25},\n",
              " '12683': {'name': 'Ball', 'pr': 50, 'qn': 60},\n",
              " '12684': {'name': 'Football', 'pr': 90, 'qn': 80},\n",
              " '12685': {'Exp-Date': '6/11/21', 'name': 'Ghee', 'pr': 150, 'qn': 10},\n",
              " '12686': {'name': 'Panner', 'pr': 200, 'qn': 20}}"
            ]
          },
          "metadata": {},
          "execution_count": 151
        }
      ]
    },
    {
      "cell_type": "markdown",
      "metadata": {
        "id": "_J1iBcQhkUkW"
      },
      "source": [
        "# Add New Item in Json File"
      ]
    },
    {
      "cell_type": "code",
      "metadata": {
        "colab": {
          "base_uri": "https://localhost:8080/"
        },
        "id": "iq6-jc0pigD1",
        "outputId": "f6f5ad78-0e75-4d4f-d519-1f4de4fd68ce"
      },
      "source": [
        "prod_id = str(input(\"Enter product id:\"))\n",
        "name = str(input(\"Enter name:\"))\n",
        "pr = int(input(\"Enter price:\"))\n",
        "qn = int(input(\"Enter quantity:\"))\n",
        "a=0\n",
        "for i in record.keys():\n",
        "   if (prod_id==i):\n",
        "       b=record[i]['qn']+qn\n",
        "       record[prod_id]={'name':name,'pr':pr,'qn':b}\n",
        "       a+=1\n",
        "       \n",
        "if a==0:\n",
        "    record[prod_id]={'name':name,'pr':pr,'qn':qn}\n",
        "js = json.dumps(record)\n",
        "\n",
        "fd = open(\"record.json\",'w')\n",
        "fd.write(js)\n",
        "fd.close()"
      ],
      "execution_count": 55,
      "outputs": [
        {
          "name": "stdout",
          "output_type": "stream",
          "text": [
            "Enter product id:12686\n",
            "Enter name:Panner\n",
            "Enter price:200\n",
            "Enter quantity:10\n"
          ]
        }
      ]
    },
    {
      "cell_type": "markdown",
      "metadata": {
        "id": "NS3jPI2p4c2O"
      },
      "source": [
        "# Purchase Product\n"
      ]
    },
    {
      "cell_type": "code",
      "metadata": {
        "colab": {
          "base_uri": "https://localhost:8080/"
        },
        "id": "7nsA2U0o41iW",
        "outputId": "f7133985-d699-452b-970b-5500562f7b29"
      },
      "source": [
        "ui_prod  = str(input(\"Enter the product_Id: \"))\n",
        "ui_quant = int(input(\"Enter the quantity: \"))\n",
        "\n",
        "c=0\n",
        "for i in record.keys():\n",
        "   if (ui_prod==i and record[i]['qn']!=0):\n",
        "       print(\"Product: \", record[i]['name'])\n",
        "       print(\"Price: \", record[i]['pr'])\n",
        "       print(\"Billing Amount: \", record[i]['pr'] * ui_quant)\n",
        "       record[i]['qn'] = record[i]['qn'] - ui_quant\n",
        "       c+=1\n",
        "if c==0:\n",
        "    print('Sorry!, This product is not available')\n",
        "    "
      ],
      "execution_count": 179,
      "outputs": [
        {
          "output_type": "stream",
          "name": "stdout",
          "text": [
            "Enter the product_Id: 12665\n",
            "Enter the quantity: 5\n",
            "Product:  Pen\n",
            "Price:  20\n",
            "Billing Amount:  100\n"
          ]
        }
      ]
    },
    {
      "cell_type": "markdown",
      "metadata": {
        "id": "V2-19z1M8b7u"
      },
      "source": [
        "# Update Inventery After Purchse"
      ]
    },
    {
      "cell_type": "code",
      "metadata": {
        "id": "O5geRs7s8mNC"
      },
      "source": [
        "js = json.dumps(record)\n",
        "\n",
        "fd = open(\"record.json\",'w')\n",
        "fd.write(js)\n",
        "fd.close()"
      ],
      "execution_count": 180,
      "outputs": []
    },
    {
      "cell_type": "markdown",
      "metadata": {
        "id": "Hh0weja2H70u"
      },
      "source": [
        "# Sales Json\n"
      ]
    },
    {
      "cell_type": "code",
      "metadata": {
        "id": "OVlpPkpx89Hs",
        "colab": {
          "base_uri": "https://localhost:8080/"
        },
        "outputId": "6479c128-1669-40e1-bdd7-161a2a90df8e"
      },
      "source": [
        "{'prod' : ui_prod, 'qn' : ui_quant, 'amount': record[ui_prod]['pr'] * ui_quant}\n"
      ],
      "execution_count": 181,
      "outputs": [
        {
          "output_type": "execute_result",
          "data": {
            "text/plain": [
              "{'amount': 100, 'prod': '12665', 'qn': 5}"
            ]
          },
          "metadata": {},
          "execution_count": 181
        }
      ]
    },
    {
      "cell_type": "code",
      "metadata": {
        "id": "slBFNqkMJd1b"
      },
      "source": [
        "\n",
        "if c==0:\n",
        "    sale={'1':{'prod' : ui_prod, 'qn' : ui_quant, 'amount': record[ui_prod]['pr'] * ui_quant}}\n",
        "    c+=1\n",
        "else:\n",
        "    sale[len(sale)+1]={'prod' : ui_prod, 'qn' : ui_quant, 'amount': record[ui_prod]['pr'] * ui_quant}\n"
      ],
      "execution_count": 182,
      "outputs": []
    },
    {
      "cell_type": "code",
      "metadata": {
        "id": "W53di2GxF4-z"
      },
      "source": [
        "sales=json.dumps(sale)"
      ],
      "execution_count": 183,
      "outputs": []
    },
    {
      "cell_type": "code",
      "metadata": {
        "colab": {
          "base_uri": "https://localhost:8080/",
          "height": 86
        },
        "id": "2Bh1DldvGli_",
        "outputId": "d2f6b62c-5761-415f-93ce-01ab50b503f7"
      },
      "source": [
        "sales"
      ],
      "execution_count": 184,
      "outputs": [
        {
          "output_type": "execute_result",
          "data": {
            "application/vnd.google.colaboratory.intrinsic+json": {
              "type": "string"
            },
            "text/plain": [
              "'{\"1\": {\"prod\": \"12667\", \"qn\": 5, \"amount\": 7500}, \"2\": {\"prod\": \"12668\", \"qn\": 5, \"amount\": 350}, \"3\": {\"prod\": \"12670\", \"qn\": 5, \"amount\": 250}, \"4\": {\"prod\": \"12683\", \"qn\": 10, \"amount\": 500}, \"5\": {\"prod\": \"12677\", \"qn\": 20, \"amount\": 2000}, \"6\": {\"prod\": \"12678\", \"qn\": 20, \"amount\": 400}, \"7\": {\"prod\": \"12662\", \"qn\": 50, \"amount\": 40000}, \"8\": {\"prod\": \"12661\", \"qn\": 20, \"amount\": 2000}, \"9\": {\"prod\": \"12663\", \"qn\": 20, \"amount\": 1700}, \"10\": {\"prod\": \"12665\", \"qn\": 5, \"amount\": 100}}'"
            ]
          },
          "metadata": {},
          "execution_count": 184
        }
      ]
    },
    {
      "cell_type": "code",
      "metadata": {
        "id": "VbbHzIGlKMX1"
      },
      "source": [
        "fd=open('sales.json','w')\n",
        "r=fd.write(sales)\n",
        "fd.close()"
      ],
      "execution_count": 185,
      "outputs": []
    }
  ]
}